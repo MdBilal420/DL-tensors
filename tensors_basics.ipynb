{
  "nbformat": 4,
  "nbformat_minor": 0,
  "metadata": {
    "colab": {
      "provenance": [],
      "authorship_tag": "ABX9TyN6YnEh20ZcE5i9sKOYrbnf",
      "include_colab_link": true
    },
    "kernelspec": {
      "name": "python3",
      "display_name": "Python 3"
    },
    "language_info": {
      "name": "python"
    }
  },
  "cells": [
    {
      "cell_type": "markdown",
      "metadata": {
        "id": "view-in-github",
        "colab_type": "text"
      },
      "source": [
        "<a href=\"https://colab.research.google.com/github/MdBilal420/DL-tensors/blob/main/tensors_basics.ipynb\" target=\"_parent\"><img src=\"https://colab.research.google.com/assets/colab-badge.svg\" alt=\"Open In Colab\"/></a>"
      ]
    },
    {
      "cell_type": "code",
      "execution_count": null,
      "metadata": {
        "id": "QKY_dKxRj5V-"
      },
      "outputs": [],
      "source": [
        "import tensorflow as tf"
      ]
    },
    {
      "cell_type": "code",
      "source": [
        "tensor_zero_d = tf.constant(5)\n",
        "print(tensor_zero_d)"
      ],
      "metadata": {
        "colab": {
          "base_uri": "https://localhost:8080/"
        },
        "id": "Jeppqx-QkCHO",
        "outputId": "f079d33d-ae9b-4160-fe94-608881b0ab54"
      },
      "execution_count": null,
      "outputs": [
        {
          "output_type": "stream",
          "name": "stdout",
          "text": [
            "tf.Tensor(5, shape=(), dtype=int32)\n"
          ]
        }
      ]
    },
    {
      "cell_type": "code",
      "source": [
        "tensor_one_d = tf.constant([2,0,-4])"
      ],
      "metadata": {
        "id": "iiaXLlkxkVNP"
      },
      "execution_count": null,
      "outputs": []
    },
    {
      "cell_type": "code",
      "source": [
        "print(tensor_one_d)"
      ],
      "metadata": {
        "colab": {
          "base_uri": "https://localhost:8080/"
        },
        "id": "Ucva09QIkcIr",
        "outputId": "40e248c0-2650-4c73-8811-ca70af1a94cf"
      },
      "execution_count": null,
      "outputs": [
        {
          "output_type": "stream",
          "name": "stdout",
          "text": [
            "tf.Tensor([ 2  0 -4], shape=(3,), dtype=int32)\n"
          ]
        }
      ]
    },
    {
      "cell_type": "code",
      "source": [
        "tensor_two_d = tf.constant([\n",
        "    [2,3,5],\n",
        "    [-3,5,7],\n",
        "    [1,5,9]\n",
        "])\n",
        "print(tensor_two_d)"
      ],
      "metadata": {
        "colab": {
          "base_uri": "https://localhost:8080/"
        },
        "id": "0al_kauqkfFl",
        "outputId": "e1ccf76d-8f5b-40ab-8427-862bdd4b8dc4"
      },
      "execution_count": null,
      "outputs": [
        {
          "output_type": "stream",
          "name": "stdout",
          "text": [
            "tf.Tensor(\n",
            "[[ 2  3  5]\n",
            " [-3  5  7]\n",
            " [ 1  5  9]], shape=(3, 3), dtype=int32)\n"
          ]
        }
      ]
    },
    {
      "cell_type": "code",
      "source": [
        "tensor_three_d = tf.constant([\n",
        "        [[ 2,  3,  5],\n",
        "         [-3,  5,  7]],\n",
        "\n",
        "        [[ 1,  -3,  6],\n",
        "         [-4,  8,  -7]],\n",
        "\n",
        "])\n",
        "print(tensor_three_d)\n"
      ],
      "metadata": {
        "colab": {
          "base_uri": "https://localhost:8080/"
        },
        "id": "E3SZ11pQk69s",
        "outputId": "da098d82-7712-4bb4-d9d8-e9c4ddae9d77"
      },
      "execution_count": null,
      "outputs": [
        {
          "output_type": "stream",
          "name": "stdout",
          "text": [
            "tf.Tensor(\n",
            "[[[ 2  3  5]\n",
            "  [-3  5  7]]\n",
            "\n",
            " [[ 1 -3  6]\n",
            "  [-4  8 -7]]], shape=(2, 2, 3), dtype=int32)\n"
          ]
        }
      ]
    },
    {
      "cell_type": "code",
      "source": [
        "tensor_four_d = tf.constant([\n",
        "    [[[ 2,  3,  5],\n",
        "      [-3,  5,  7]],\n",
        "\n",
        "      [[ 1,  -3,  6],\n",
        "      [-4,  8,  -7]],],\n",
        "\n",
        "    [[[ -2,  -3,  -5],\n",
        "      [3,  -5,  -7]],\n",
        "\n",
        "      [[ -1,  3,  -6],\n",
        "      [4,  -8,  7]],],\n",
        "\n",
        "    [[[ -2,  -3,  -5],\n",
        "      [3,  -5,  -7]],\n",
        "\n",
        "      [[ 11,  -33,  46],\n",
        "      [-42,  38,  -37]],]\n",
        "])\n",
        "print(tensor_four_d)\n"
      ],
      "metadata": {
        "colab": {
          "base_uri": "https://localhost:8080/"
        },
        "id": "OiWEO7SUl4gR",
        "outputId": "415f3017-6829-4289-a46b-8b130fd80b70"
      },
      "execution_count": null,
      "outputs": [
        {
          "output_type": "stream",
          "name": "stdout",
          "text": [
            "tf.Tensor(\n",
            "[[[[  2   3   5]\n",
            "   [ -3   5   7]]\n",
            "\n",
            "  [[  1  -3   6]\n",
            "   [ -4   8  -7]]]\n",
            "\n",
            "\n",
            " [[[ -2  -3  -5]\n",
            "   [  3  -5  -7]]\n",
            "\n",
            "  [[ -1   3  -6]\n",
            "   [  4  -8   7]]]\n",
            "\n",
            "\n",
            " [[[ -2  -3  -5]\n",
            "   [  3  -5  -7]]\n",
            "\n",
            "  [[ 11 -33  46]\n",
            "   [-42  38 -37]]]], shape=(3, 2, 2, 3), dtype=int32)\n"
          ]
        }
      ]
    },
    {
      "cell_type": "code",
      "source": [
        "tensor_one_d = tf.constant([2.3,0,-4.0])\n",
        "casted_tensor_one_d = tf.cast(tensor_one_d,dtype=tf.bool)\n",
        "print(tensor_one_d)\n",
        "print(casted_tensor_one_d)\n"
      ],
      "metadata": {
        "colab": {
          "base_uri": "https://localhost:8080/"
        },
        "id": "ogjfmrTonHQW",
        "outputId": "483a0209-42d1-431c-e738-9f4fc0cf0f95"
      },
      "execution_count": null,
      "outputs": [
        {
          "output_type": "stream",
          "name": "stdout",
          "text": [
            "tf.Tensor([ 2.3  0.  -4. ], shape=(3,), dtype=float32)\n",
            "tf.Tensor([ True False  True], shape=(3,), dtype=bool)\n"
          ]
        }
      ]
    },
    {
      "cell_type": "code",
      "source": [],
      "metadata": {
        "id": "Yt51Y3uOpASL"
      },
      "execution_count": null,
      "outputs": []
    }
  ]
}